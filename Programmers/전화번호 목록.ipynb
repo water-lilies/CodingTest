{
 "cells": [
  {
   "cell_type": "markdown",
   "metadata": {},
   "source": [
    "## 문제 설명\n",
    "전화번호부에 적힌 전화번호 중, 한 번호가 다른 번호의 접두어인 경우가 있는지 확인하려 합니다.\n",
    "전화번호가 다음과 같을 경우, 구조대 전화번호는 영석이의 전화번호의 접두사입니다.\n",
    "\n",
    "- 구조대 : 119\n",
    "- 박준영 : 97 674 223\n",
    "- 지영석 : 11 9552 4421  \n",
    "\n",
    "전화번호부에 적힌 전화번호를 담은 배열 phone_book 이 solution 함수의 매개변수로 주어질 때, 어떤 번호가 다른 번호의 접두어인 경우가 있으면 false를 그렇지 않으면 true를 return 하도록 solution 함수를 작성해주세요."
   ]
  },
  {
   "cell_type": "markdown",
   "metadata": {},
   "source": [
    "## 제한 사항\n",
    "- phone_book의 길이는 1 이상 1,000,000 이하입니다.\n",
    "    - 각 전화번호의 길이는 1 이상 20 이하입니다.\n",
    "    - 같은 전화번호가 중복해서 들어있지 않습니다."
   ]
  },
  {
   "cell_type": "code",
   "execution_count": 2,
   "metadata": {},
   "outputs": [],
   "source": [
    "data1 = [\"119\", \"97674223\", \"1195524421\"]\n",
    "data2 = [\"123\",\"456\",\"789\"]\n",
    "data3 = [\"12\",\"123\",\"1235\",\"567\",\"88\"]"
   ]
  },
  {
   "cell_type": "code",
   "execution_count": 5,
   "metadata": {},
   "outputs": [
    {
     "name": "stdout",
     "output_type": "stream",
     "text": [
      "1195524421 1195524421\n",
      "97674223 97674223\n"
     ]
    }
   ],
   "source": [
    "for i in range(len(data1)):\n",
    "    data1.sort()\n",
    "    for j in range(1,len(data1)):\n",
    "        if not data1[i].startswith(data1[j]):\n",
    "            pass\n",
    "        else:\n",
    "            print(data1[i], data1[j])"
   ]
  },
  {
   "cell_type": "code",
   "execution_count": 3,
   "metadata": {},
   "outputs": [
    {
     "name": "stdout",
     "output_type": "stream",
     "text": [
      "119 119\n",
      "97674223 119\n",
      "97674223 97674223\n",
      "1195524421 119\n",
      "1195524421 97674223\n",
      "1195524421 1195524421\n"
     ]
    }
   ],
   "source": [
    "for i in range(len(data1)):\n",
    "    for j in range(len(data1)):\n",
    "        a = data1[i]\n",
    "        b = data1[j]\n",
    "        print(a, b)\n",
    "        if data1[j].startswith(data1[i]):\n",
    "            break\n"
   ]
  },
  {
   "cell_type": "code",
   "execution_count": 2,
   "metadata": {},
   "outputs": [
    {
     "data": {
      "text/plain": [
       "['97674223', '1195524421']"
      ]
     },
     "execution_count": 2,
     "metadata": {},
     "output_type": "execute_result"
    }
   ],
   "source": [
    "data1[1:]"
   ]
  },
  {
   "cell_type": "code",
   "execution_count": 10,
   "metadata": {},
   "outputs": [
    {
     "name": "stdout",
     "output_type": "stream",
     "text": [
      "12 123\n",
      "123 1235\n",
      "1235 567\n",
      "567 88\n"
     ]
    }
   ],
   "source": [
    "# 데이터 앞,뒤 값 출력\n",
    "for p1, p2 in zip(data3, data3[1:]):\n",
    "    print(p1,p2)"
   ]
  },
  {
   "cell_type": "code",
   "execution_count": 7,
   "metadata": {},
   "outputs": [],
   "source": [
    "# 정확성 및 효율성에서 일부 실패\n",
    "\n",
    "def solution1(phone_book):\n",
    "    phone_book.sort()\n",
    "    for p1, p2 in zip(phone_book, phone_book[1:]):\n",
    "        if p2.startswith(p1):\n",
    "            return False\n",
    "        return True"
   ]
  },
  {
   "cell_type": "code",
   "execution_count": 8,
   "metadata": {},
   "outputs": [
    {
     "data": {
      "text/plain": [
       "False"
      ]
     },
     "execution_count": 8,
     "metadata": {},
     "output_type": "execute_result"
    }
   ],
   "source": [
    "solution1(data1)"
   ]
  },
  {
   "cell_type": "code",
   "execution_count": 1,
   "metadata": {},
   "outputs": [],
   "source": [
    "# hash로 처리\n",
    "def solution2(phone_book):\n",
    "    answer = True\n",
    "    hash_map = {}\n",
    "    \n",
    "    # 등장한 숫자들을 count 딕셔너리로 만듦\n",
    "    for phone_number in phone_book:\n",
    "        hash_map[phone_number] = 1\n",
    "        \n",
    "    # 다시 숫자들을 꺼낸뒤\n",
    "    for phone_number in phone_book:\n",
    "        temp = \"\"\n",
    "        for number in phone_number: #숫자 하나씩 뜯어보기\n",
    "            temp += number\n",
    "            #딕셔너리 키로 같은게 있지만, 전체 숫자는 다른 경우\n",
    "            if temp in hash_map and temp != phone_number:\n",
    "                answer = False\n",
    "                \n",
    "    print(hash_map)\n",
    "    return answer"
   ]
  },
  {
   "cell_type": "code",
   "execution_count": 3,
   "metadata": {},
   "outputs": [
    {
     "name": "stdout",
     "output_type": "stream",
     "text": [
      "{'119': 1, '97674223': 1, '1195524421': 1}\n"
     ]
    }
   ],
   "source": [
    "hash_map = {}\n",
    "\n",
    "for phone_number in data1:\n",
    "    hash_map[phone_number] = 1\n",
    "\n",
    "print(hash_map)"
   ]
  },
  {
   "cell_type": "code",
   "execution_count": 4,
   "metadata": {},
   "outputs": [
    {
     "data": {
      "text/plain": [
       "dict_keys(['119', '97674223', '1195524421'])"
      ]
     },
     "execution_count": 4,
     "metadata": {},
     "output_type": "execute_result"
    }
   ],
   "source": [
    "hash_map.keys()"
   ]
  },
  {
   "cell_type": "code",
   "execution_count": 7,
   "metadata": {},
   "outputs": [
    {
     "name": "stdout",
     "output_type": "stream",
     "text": [
      "119\n",
      "11997674223\n",
      "119976742231195524421\n",
      "119\n",
      "11997674223\n",
      "119976742231195524421\n",
      "119\n",
      "11997674223\n",
      "119976742231195524421\n"
     ]
    }
   ],
   "source": [
    "hash_map = {}\n",
    "\n",
    "for phone_number in data1:\n",
    "    hash_map[phone_number] = 1\n",
    "\n",
    "for phone_number in data1:\n",
    "    temp = \"\"\n",
    "    for number in data1:\n",
    "        temp += number\n",
    "        print(temp)"
   ]
  },
  {
   "cell_type": "code",
   "execution_count": 3,
   "metadata": {},
   "outputs": [
    {
     "name": "stdout",
     "output_type": "stream",
     "text": [
      "{'123': 1, '456': 1, '789': 1}\n"
     ]
    },
    {
     "data": {
      "text/plain": [
       "True"
      ]
     },
     "execution_count": 3,
     "metadata": {},
     "output_type": "execute_result"
    }
   ],
   "source": [
    "solution2(data2)"
   ]
  }
 ],
 "metadata": {
  "kernelspec": {
   "display_name": "Python 3",
   "language": "python",
   "name": "python3"
  },
  "language_info": {
   "codemirror_mode": {
    "name": "ipython",
    "version": 3
   },
   "file_extension": ".py",
   "mimetype": "text/x-python",
   "name": "python",
   "nbconvert_exporter": "python",
   "pygments_lexer": "ipython3",
   "version": "3.8.5"
  }
 },
 "nbformat": 4,
 "nbformat_minor": 4
}
