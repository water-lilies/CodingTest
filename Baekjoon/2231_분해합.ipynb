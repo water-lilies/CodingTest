{
 "cells": [
  {
   "cell_type": "markdown",
   "metadata": {},
   "source": [
    "### 문제\n",
    "어떤 자연수 N이 있을 때, 그 자연수 N의 분해합은 N과 N을 이루는 각 자리수의 합을 의미한다. 어떤 자연수 M의 분해합이 N인 경우, M을 N의 생성자라 한다. 예를 들어, 245의 분해합은 256(=245+2+4+5)이 된다. 따라서 245는 256의 생성자가 된다. 물론, 어떤 자연수의 경우에는 생성자가 없을 수도 있다. 반대로, 생성자가 여러 개인 자연수도 있을 수 있다.\n",
    "\n",
    "자연수 N이 주어졌을 때, N의 가장 작은 생성자를 구해내는 프로그램을 작성하시오."
   ]
  },
  {
   "cell_type": "markdown",
   "metadata": {},
   "source": [
    "### 입력\n",
    "첫째 줄에 자연수 N(1 ≤ N ≤ 1,000,000)이 주어진다."
   ]
  },
  {
   "cell_type": "markdown",
   "metadata": {},
   "source": [
    "### 출력\n",
    "첫째 줄에 답을 출력한다. 생성자가 없는 경우에는 0을 출력한다."
   ]
  },
  {
   "cell_type": "code",
   "execution_count": 43,
   "metadata": {},
   "outputs": [
    {
     "name": "stdout",
     "output_type": "stream",
     "text": [
      "1000000\n",
      "999959\n"
     ]
    }
   ],
   "source": [
    "# 틀림\n",
    "N = int(input())\n",
    "result_list=[]\n",
    "\n",
    "for i in range(N+1):\n",
    "    result = i\n",
    "    i_list = list(str(i))\n",
    "    for j in i_list:\n",
    "        result += int(j)\n",
    "        if result == N:\n",
    "            result_list.append(i)\n",
    "\n",
    "print(min(result_list) if len(result_list)>0 else 0)"
   ]
  },
  {
   "cell_type": "code",
   "execution_count": 6,
   "metadata": {},
   "outputs": [
    {
     "name": "stdout",
     "output_type": "stream",
     "text": [
      "['2', '1', '6'] <class 'str'>\n"
     ]
    }
   ],
   "source": [
    "num_list = list(str(N))\n",
    "print(num_list,type(num_list[1]))"
   ]
  },
  {
   "cell_type": "code",
   "execution_count": 7,
   "metadata": {},
   "outputs": [
    {
     "name": "stdout",
     "output_type": "stream",
     "text": [
      "7\n"
     ]
    }
   ],
   "source": [
    "print(int(num_list[1])+int(num_list[2]))"
   ]
  },
  {
   "cell_type": "code",
   "execution_count": 35,
   "metadata": {},
   "outputs": [
    {
     "name": "stdout",
     "output_type": "stream",
     "text": [
      "1000000\n",
      "0\n"
     ]
    }
   ],
   "source": [
    "n = int(input())\n",
    "\n",
    "for i in range(n + 1):\n",
    "    i_s = str(i)\n",
    "    total = i\n",
    "    for j in i_s:\n",
    "        total += int(j)\n",
    "    if total == n:\n",
    "        break\n",
    "print(i if i != n else 0)"
   ]
  },
  {
   "cell_type": "code",
   "execution_count": 34,
   "metadata": {},
   "outputs": [
    {
     "name": "stdout",
     "output_type": "stream",
     "text": [
      "1000000\n",
      "0\n"
     ]
    }
   ],
   "source": [
    "# 다른사람 풀이\n",
    "\n",
    "num = int(input())\n",
    "answer = 0\n",
    "\n",
    "for i in range(1, num+1):\n",
    "    coef_num_list = list(map(int, str(i)))\n",
    "    answer = i + sum(coef_num_list)\n",
    "    \n",
    "    if answer == num:\n",
    "        print(i)\n",
    "        break\n",
    "\n",
    "    if i == num:\n",
    "        print(0)"
   ]
  },
  {
   "cell_type": "code",
   "execution_count": null,
   "metadata": {},
   "outputs": [],
   "source": [
    "# 다른사람 풀이\n",
    "\n",
    "import sys\n",
    "def solve(n):\n",
    "    _min = n - len(str(n)) * 9\n",
    "    _min = 1 if _min < 1 else _min\n",
    "    for i in range(_min, n):\n",
    "        _sum = i\n",
    "        _sum += sum(map(int, str(i)))\n",
    "        if _sum == N:\n",
    "            print(i)\n",
    "            return\n",
    "    print(0)\n",
    "\n",
    "N = int(sys.stdin.readline())\n",
    "solve(N)"
   ]
  }
 ],
 "metadata": {
  "kernelspec": {
   "display_name": "Python 3",
   "language": "python",
   "name": "python3"
  },
  "language_info": {
   "codemirror_mode": {
    "name": "ipython",
    "version": 3
   },
   "file_extension": ".py",
   "mimetype": "text/x-python",
   "name": "python",
   "nbconvert_exporter": "python",
   "pygments_lexer": "ipython3",
   "version": "3.7.3"
  }
 },
 "nbformat": 4,
 "nbformat_minor": 2
}
