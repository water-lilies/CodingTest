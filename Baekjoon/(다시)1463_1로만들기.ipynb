{
 "cells": [
  {
   "cell_type": "markdown",
   "metadata": {},
   "source": [
    "### 문제\n",
    "정수 X에 사용할 수 있는 연산은 다음과 같이 세 가지 이다.\n",
    "\n",
    "1. X가 3으로 나누어 떨어지면, 3으로 나눈다.\n",
    "2. X가 2로 나누어 떨어지면, 2로 나눈다.\n",
    "3. 1을 뺀다.\n",
    "정수 N이 주어졌을 때, 위와 같은 연산 세 개를 적절히 사용해서 1을 만들려고 한다. 연산을 사용하는 횟수의 최솟값을 출력하시오."
   ]
  },
  {
   "cell_type": "markdown",
   "metadata": {},
   "source": [
    "### 입력\n",
    "첫째 줄에 1보다 크거나 같고, 106보다 작거나 같은 정수 N이 주어진다."
   ]
  },
  {
   "cell_type": "markdown",
   "metadata": {},
   "source": [
    "### 출력\n",
    "첫째 줄에 연산을 하는 횟수의 최솟값을 출력한다."
   ]
  },
  {
   "cell_type": "code",
   "execution_count": 1,
   "metadata": {},
   "outputs": [],
   "source": [
    "\n",
    "def make_1(num):\n",
    "    if num%3 == 0:\n",
    "        result = num/3\n",
    "    if num%2 == 0:\n",
    "        result = num/2\n",
    "    return "
   ]
  },
  {
   "cell_type": "code",
   "execution_count": 3,
   "metadata": {},
   "outputs": [
    {
     "data": {
      "text/plain": [
       "5.0"
      ]
     },
     "execution_count": 3,
     "metadata": {},
     "output_type": "execute_result"
    }
   ],
   "source": [
    "make_1(10)"
   ]
  },
  {
   "cell_type": "code",
   "execution_count": null,
   "metadata": {},
   "outputs": [],
   "source": [
    "count = 0\n",
    "while(True):\n",
    "    if num == 1 :\n",
    "        break\n",
    "        \n",
    "    if num % 3 == 0:\n",
    "        result = num/3\n",
    "        count += 1\n",
    "        \n",
    "    if num % 2 == 0:\n",
    "        result = num/2\n",
    "        count +=1\n",
    "        \n",
    "        "
   ]
  }
 ],
 "metadata": {
  "kernelspec": {
   "display_name": "Python 3",
   "language": "python",
   "name": "python3"
  },
  "language_info": {
   "codemirror_mode": {
    "name": "ipython",
    "version": 3
   },
   "file_extension": ".py",
   "mimetype": "text/x-python",
   "name": "python",
   "nbconvert_exporter": "python",
   "pygments_lexer": "ipython3",
   "version": "3.8.3"
  }
 },
 "nbformat": 4,
 "nbformat_minor": 4
}
