{
 "cells": [
  {
   "cell_type": "markdown",
   "metadata": {},
   "source": [
    "### 문제\n",
    "알파벳 대소문자로 된 단어가 주어지면, 이 단어에서 가장 많이 사용된 알파벳이 무엇인지 알아내는 프로그램을 작성하시오. 단, 대문자와 소문자를 구분하지 않는다."
   ]
  },
  {
   "cell_type": "markdown",
   "metadata": {},
   "source": [
    "### 입력\n",
    "첫째 줄에 알파벳 대소문자로 이루어진 단어가 주어진다. 주어지는 단어의 길이는 1,000,000을 넘지 않는다."
   ]
  },
  {
   "cell_type": "markdown",
   "metadata": {},
   "source": [
    "### 출력\n",
    "첫째 줄에 이 단어에서 가장 많이 사용된 알파벳을 대문자로 출력한다. 단, 가장 많이 사용된 알파벳이 여러 개 존재하는 경우에는 ?를 출력한다."
   ]
  },
  {
   "cell_type": "code",
   "execution_count": 1,
   "metadata": {},
   "outputs": [
    {
     "name": "stdout",
     "output_type": "stream",
     "text": [
      "aaaaabb\n",
      "A\n"
     ]
    }
   ],
   "source": [
    "# 런타임 에러... \n",
    "# 입력값이 하나일 떄 처리를 못해서 추가해줌\n",
    "\n",
    "words = list(input().upper())\n",
    "\n",
    "if len(words) == 1:\n",
    "    print(words[0])\n",
    "    quit()\n",
    "    \n",
    "word_dict = {}\n",
    "\n",
    "for j in set(words): \n",
    "    word_dict[j] = 0\n",
    "\n",
    "for i in words: \n",
    "    word_dict[i] += 1\n",
    "    \n",
    "result = sorted(word_dict.items(), reverse=True, key=lambda item:item[1])\n",
    "\n",
    "if result[0][1] == result[1][1]:\n",
    "    print(\"?\")\n",
    "else:\n",
    "    print(result[0][0])"
   ]
  },
  {
   "cell_type": "code",
   "execution_count": 6,
   "metadata": {},
   "outputs": [
    {
     "name": "stdout",
     "output_type": "stream",
     "text": [
      "Mississip\n",
      "['M', 'I', 'S', 'S', 'I', 'S', 'S', 'I', 'P']\n"
     ]
    }
   ],
   "source": [
    "words = list(input().upper())\n",
    "print(words)"
   ]
  },
  {
   "cell_type": "code",
   "execution_count": 4,
   "metadata": {},
   "outputs": [
    {
     "name": "stdout",
     "output_type": "stream",
     "text": [
      "1\n",
      "3\n",
      "4\n",
      "4\n",
      "3\n",
      "4\n",
      "4\n",
      "3\n",
      "1\n"
     ]
    }
   ],
   "source": [
    "for i in words:\n",
    "    temp = words.count(i)\n",
    "    print(temp)"
   ]
  },
  {
   "cell_type": "code",
   "execution_count": 26,
   "metadata": {},
   "outputs": [
    {
     "name": "stdout",
     "output_type": "stream",
     "text": [
      "{'S': 4, 'P': 1, 'I': 3, 'M': 1}\n"
     ]
    }
   ],
   "source": [
    "word_dict = {}\n",
    "for i in set(words): \n",
    "    word_dict[i] = 0\n",
    "\n",
    "for i in words: \n",
    "    word_dict[i] += 1\n",
    "\n",
    "print(word_dict)"
   ]
  },
  {
   "cell_type": "code",
   "execution_count": 17,
   "metadata": {},
   "outputs": [
    {
     "data": {
      "text/plain": [
       "[('S', 4), ('I', 3), ('P', 1), ('M', 1)]"
      ]
     },
     "execution_count": 17,
     "metadata": {},
     "output_type": "execute_result"
    }
   ],
   "source": [
    "# 값을 기준으로 내림차순 정렬\n",
    "sorted(word_dict.items(), reverse=True, key=lambda item:item[1])"
   ]
  },
  {
   "cell_type": "code",
   "execution_count": 27,
   "metadata": {},
   "outputs": [
    {
     "name": "stdout",
     "output_type": "stream",
     "text": [
      "S\n"
     ]
    }
   ],
   "source": [
    "word_dict = sorted(word_dict.items(), reverse=True, key=lambda item:item[1])\n",
    "print(word_dict[0][0])"
   ]
  },
  {
   "cell_type": "code",
   "execution_count": null,
   "metadata": {},
   "outputs": [],
   "source": [
    "if word_dict[0][1] == word_dict[1][1]:\n",
    "    print(\"?\")\n",
    "else:\n",
    "    print(word_dict[0][0])"
   ]
  },
  {
   "cell_type": "code",
   "execution_count": 37,
   "metadata": {},
   "outputs": [
    {
     "name": "stdout",
     "output_type": "stream",
     "text": [
      "s\n",
      "S\n"
     ]
    }
   ],
   "source": [
    "words = list(input().upper())\n",
    "\n",
    "if len(words) == 1:\n",
    "    print(words[0])"
   ]
  },
  {
   "cell_type": "code",
   "execution_count": null,
   "metadata": {},
   "outputs": [],
   "source": [
    "## 다른사람 풀이\n",
    "s = input().upper()\n",
    "d = {c : s.count(c) for c in set(s)}\n",
    "m = [k for k in d.keys() if d[k] == max(d.values())]\n",
    "print(m[0]) if len(m) == 1 else print('?')"
   ]
  }
 ],
 "metadata": {
  "kernelspec": {
   "display_name": "Python 3",
   "language": "python",
   "name": "python3"
  },
  "language_info": {
   "codemirror_mode": {
    "name": "ipython",
    "version": 3
   },
   "file_extension": ".py",
   "mimetype": "text/x-python",
   "name": "python",
   "nbconvert_exporter": "python",
   "pygments_lexer": "ipython3",
   "version": "3.7.3"
  }
 },
 "nbformat": 4,
 "nbformat_minor": 2
}
