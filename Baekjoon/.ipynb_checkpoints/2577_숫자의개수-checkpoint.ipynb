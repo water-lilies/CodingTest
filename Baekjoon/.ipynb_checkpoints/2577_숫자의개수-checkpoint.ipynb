{
 "cells": [
  {
   "cell_type": "markdown",
   "metadata": {},
   "source": [
    "### 문제\n",
    "세 개의 자연수 A, B, C가 주어질 때 A×B×C를 계산한 결과에 0부터 9까지 각각의 숫자가 몇 번씩 쓰였는지를 구하는 프로그램을 작성하시오.\n",
    "\n",
    "예를 들어 A = 150, B = 266, C = 427 이라면 \n",
    "\n",
    "A × B × C = 150 × 266 × 427 = 17037300 이 되고, \n",
    "\n",
    "계산한 결과 17037300 에는 0이 3번, 1이 1번, 3이 2번, 7이 2번 쓰였다."
   ]
  },
  {
   "cell_type": "markdown",
   "metadata": {},
   "source": [
    "### 입력\n",
    "첫째 줄에 A, 둘째 줄에 B, 셋째 줄에 C가 주어진다. A, B, C는 모두 100보다 같거나 크고, 1,000보다 작은 자연수이다."
   ]
  },
  {
   "cell_type": "markdown",
   "metadata": {},
   "source": [
    "### 출력\n",
    "첫째 줄에는 A×B×C의 결과에 0 이 몇 번 쓰였는지 출력한다. 마찬가지로 둘째 줄부터 열 번째 줄까지 A×B×C의 결과에 1부터 9까지의 숫자가 각각 몇 번 쓰였는지 차례로 한 줄에 하나씩 출력한다."
   ]
  },
  {
   "cell_type": "code",
   "execution_count": 46,
   "metadata": {},
   "outputs": [
    {
     "name": "stdout",
     "output_type": "stream",
     "text": [
      "150\n",
      "266\n",
      "427\n",
      "3\n",
      "1\n",
      "0\n",
      "2\n",
      "0\n",
      "0\n",
      "0\n",
      "2\n",
      "0\n",
      "0\n"
     ]
    }
   ],
   "source": [
    "A = int(input())\n",
    "B = int(input())\n",
    "C = int(input())\n",
    "\n",
    "mul = str(A*B*C)\n",
    "num_dict = {}\n",
    "\n",
    "for i in range(10):\n",
    "    num_dict[str(i)] = 0\n",
    "\n",
    "for i in mul:\n",
    "    num_dict[i] += 1\n",
    "    \n",
    "for key in num_dict:\n",
    "     print(num_dict[key])"
   ]
  },
  {
   "cell_type": "code",
   "execution_count": 37,
   "metadata": {},
   "outputs": [
    {
     "name": "stdout",
     "output_type": "stream",
     "text": [
      "1\n",
      "7\n",
      "0\n",
      "3\n",
      "7\n",
      "3\n",
      "0\n",
      "0\n"
     ]
    }
   ],
   "source": [
    "A = 150\n",
    "B = 266\n",
    "C = 427\n",
    "\n",
    "mul = str(A*B*C)\n",
    "\n",
    "for i in mul:\n",
    "    print(i)"
   ]
  },
  {
   "cell_type": "code",
   "execution_count": 8,
   "metadata": {},
   "outputs": [
    {
     "name": "stdout",
     "output_type": "stream",
     "text": [
      "[0, 1, 2, 3, 4, 5, 6, 7, 8, 9]\n"
     ]
    }
   ],
   "source": [
    "num_list = []\n",
    "\n",
    "for i in range(10):\n",
    "    num_list.append(i)\n",
    "\n",
    "print(num_list)"
   ]
  },
  {
   "cell_type": "code",
   "execution_count": 45,
   "metadata": {},
   "outputs": [
    {
     "name": "stdout",
     "output_type": "stream",
     "text": [
      "3\n",
      "1\n",
      "0\n",
      "2\n",
      "0\n",
      "0\n",
      "0\n",
      "2\n",
      "0\n",
      "0\n"
     ]
    }
   ],
   "source": [
    "num_dict = {}\n",
    "\n",
    "for i in range(10):\n",
    "    num_dict[str(i)] = 0\n",
    "    # key값을 int로 넣었을 땐 오류가 남.. \n",
    "\n",
    "for i in mul:\n",
    "    num_dict[i] += 1\n",
    "    \n",
    "for key in num_dict:\n",
    "     print(num_dict[key])"
   ]
  },
  {
   "cell_type": "code",
   "execution_count": null,
   "metadata": {},
   "outputs": [],
   "source": [
    "# 다른사람 풀이\n",
    "\n",
    "A = int(input())\n",
    "B = int(input())\n",
    "C = int(input())\n",
    " \n",
    "result = str(A * B * C)\n",
    " \n",
    "for i in range(10):\n",
    "    sum = 0\n",
    "    for j in range(len(result)):\n",
    "        if i == int(result[j]):\n",
    "            sum += 1\n",
    "    print(sum)"
   ]
  },
  {
   "cell_type": "code",
   "execution_count": null,
   "metadata": {},
   "outputs": [],
   "source": [
    "a = int(input())\n",
    "b = int(input())\n",
    "c = int(input())\n",
    "\n",
    "k = a*b*c\n",
    "k_list = list(str(k))\n",
    "for i in range(10):\n",
    "    k_num_count = k_list.count(str(i))\n",
    "    print(k_num_count)"
   ]
  },
  {
   "cell_type": "code",
   "execution_count": null,
   "metadata": {},
   "outputs": [],
   "source": [
    "a = int(input())\n",
    "b = int(input())\n",
    "c = int(input())\n",
    "\n",
    "result = list(str(a * b * c))\n",
    "for i in range(10):\n",
    "    print(result.count(str(i)))"
   ]
  }
 ],
 "metadata": {
  "kernelspec": {
   "display_name": "Python 3",
   "language": "python",
   "name": "python3"
  },
  "language_info": {
   "codemirror_mode": {
    "name": "ipython",
    "version": 3
   },
   "file_extension": ".py",
   "mimetype": "text/x-python",
   "name": "python",
   "nbconvert_exporter": "python",
   "pygments_lexer": "ipython3",
   "version": "3.7.3"
  }
 },
 "nbformat": 4,
 "nbformat_minor": 2
}
