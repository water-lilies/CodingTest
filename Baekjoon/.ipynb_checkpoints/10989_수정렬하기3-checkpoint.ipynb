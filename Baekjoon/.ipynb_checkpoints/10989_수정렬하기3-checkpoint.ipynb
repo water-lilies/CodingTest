{
 "cells": [
  {
   "cell_type": "markdown",
   "metadata": {},
   "source": [
    "### 문제\n",
    "N개의 수가 주어졌을 때, 이를 오름차순으로 정렬하는 프로그램을 작성하시오."
   ]
  },
  {
   "cell_type": "markdown",
   "metadata": {},
   "source": [
    "### 입력\n",
    "첫째 줄에 수의 개수 N(1 ≤ N ≤ 10,000,000)이 주어진다. 둘째 줄부터 N개의 줄에는 숫자가 주어진다. 이 수는 10,000보다 작거나 같은 자연수이다."
   ]
  },
  {
   "cell_type": "markdown",
   "metadata": {},
   "source": [
    "### 출력\n",
    "첫째 줄부터 N개의 줄에 오름차순으로 정렬한 결과를 한 줄에 하나씩 출력한다."
   ]
  },
  {
   "cell_type": "code",
   "execution_count": 4,
   "metadata": {},
   "outputs": [
    {
     "name": "stdout",
     "output_type": "stream",
     "text": [
      "3\n",
      "7\n",
      "5\n",
      "2\n",
      "2\n",
      "5\n",
      "7\n"
     ]
    }
   ],
   "source": [
    "# 메모리 초과\n",
    "\n",
    "N = int(input())\n",
    "num_list=[]\n",
    "\n",
    "for _ in range(0,N):\n",
    "    num_list.append(int(input()))\n",
    "\n",
    "for i in sorted(num_list):\n",
    "    print(i)"
   ]
  },
  {
   "cell_type": "code",
   "execution_count": 2,
   "metadata": {},
   "outputs": [
    {
     "name": "stdout",
     "output_type": "stream",
     "text": [
      "[1, 2, 3]\n"
     ]
    }
   ],
   "source": [
    "print(num_list)"
   ]
  },
  {
   "cell_type": "code",
   "execution_count": null,
   "metadata": {},
   "outputs": [],
   "source": [
    "import sys\n",
    "\n",
    "N = int(sys.stdin.readline())\n",
    "numbers = [0 for _ in range(10000)]\n",
    "\n",
    "for _ in range(N):\n",
    "    numbers[int(sys.stdin.readline())-1] += 1\n",
    "    \n",
    "for i in range(10000):\n",
    "    if numbers[i] > 0:\n",
    "        sys.stdout.write((str(i+1) +'\\n')*numbers[i])"
   ]
  },
  {
   "cell_type": "code",
   "execution_count": null,
   "metadata": {},
   "outputs": [],
   "source": [
    "import sys\n",
    "\n",
    "N = int(input())\n",
    "series = [0] * 10001\n",
    "\n",
    "for i in range(N):\n",
    "    a = int(sys.stdin.readline())\n",
    "    series[a] = series[a] + 1\n",
    "\n",
    "for b in range(len(series)):\n",
    "    if series[b] !=0:\n",
    "        for c in range(series[b]):\n",
    "            print(b)"
   ]
  },
  {
   "cell_type": "code",
   "execution_count": null,
   "metadata": {},
   "outputs": [],
   "source": [
    "import sys\n",
    "\n",
    "n = int(sys.stdin.readline())\n",
    "b = [0] * 10001\n",
    "\n",
    "for i in range(n):\n",
    "    b[int(sys.stdin.readline())] += 1\n",
    "    \n",
    "for i in range(10001):\n",
    "    if b[i] != 0:\n",
    "        for j in range(b[i]):\n",
    "            print(i)"
   ]
  },
  {
   "cell_type": "code",
   "execution_count": null,
   "metadata": {},
   "outputs": [],
   "source": [
    "import sys\n",
    "\n",
    "case = int(input())\n",
    "result = [0 for i in range(10001)]\n",
    "\n",
    "for num in sys.stdin:\n",
    "    result[int(num)] += 1\n",
    "\n",
    "for i in range(10001):\n",
    "    if result[i] > 0:\n",
    "        for j in range(result[i]):\n",
    "            print(i)"
   ]
  }
 ],
 "metadata": {
  "kernelspec": {
   "display_name": "Python 3",
   "language": "python",
   "name": "python3"
  },
  "language_info": {
   "codemirror_mode": {
    "name": "ipython",
    "version": 3
   },
   "file_extension": ".py",
   "mimetype": "text/x-python",
   "name": "python",
   "nbconvert_exporter": "python",
   "pygments_lexer": "ipython3",
   "version": "3.8.3"
  }
 },
 "nbformat": 4,
 "nbformat_minor": 4
}
