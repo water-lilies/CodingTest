{
 "cells": [
  {
   "cell_type": "markdown",
   "metadata": {},
   "source": [
    "## 백트래킹(Backtracking) 알고리즘\n",
    "- 한정 조건을 가진 문제를 풀려는 전략. 모든 조합을 시도해서 문제의 해를 찾는다.\n",
    "- CSP(Constrain Satisfaction Problems)을 해결하기 위해 쓰인다.\n",
    "- 방식에 따라서 깊이우선탐색(Depth First Search, DFS)과 너비우선탐색(Breadth First Search, BFS), 최선 우선 탐색(Best First Search/Heuristic Search)이 있다. \n",
    "- 퇴각검색은 모든 조합을 시도해서 문제의 해를 찾는다. 이것이 장점이 될 수 있는 이유는 퇴각검색 구현 방법들이 많은 부분 조합들을 배제하기 때문이다. 결국 풀이 시간이 단축된다.\n",
    "- 백트래킹은 구하고자 하는 해를 튜플로 나타내고 튜플에 기준 함수(한정 함수)를 적용했을 때의 결과가 일정 조건을 만족하게끔 만들어주는 퇴각 검색 기법. 백트래킹은 해답이 될 수 있는 튜플을 완성해 나아가며 그 과정에서 미완성된 튜플에 한정 함수를 적용하여 해답의 가능성이 없는 튜플들은 더이상 진행시키지 않는 방법을 사용한다. 이때 튜플을 만드는 과정에서 스택(Stack)을 사용하여 한정 함수를 만족하면 push, 만족하지 않으면 pop을 하는 방법을 사용한다.\n",
    "- 스택을 사용하고 스택에 넣기 전엔 유망성 검사를 한다."
   ]
  },
  {
   "cell_type": "markdown",
   "metadata": {},
   "source": [
    "### 문제\n",
    "자연수 N과 M이 주어졌을 때, 아래 조건을 만족하는 길이가 M인 수열을 모두 구하는 프로그램을 작성하시오.\n",
    "\n",
    "1부터 N까지 자연수 중에서 중복 없이 M개를 고른 수열"
   ]
  },
  {
   "cell_type": "markdown",
   "metadata": {},
   "source": [
    "### 입력\n",
    "첫째 줄에 자연수 N과 M이 주어진다. (1 ≤ M ≤ N ≤ 8)"
   ]
  },
  {
   "cell_type": "markdown",
   "metadata": {},
   "source": [
    "### 출력\n",
    "한 줄에 하나씩 문제의 조건을 만족하는 수열을 출력한다. 중복되는 수열을 여러 번 출력하면 안되며, 각 수열은 공백으로 구분해서 출력해야 한다.\n",
    "\n",
    "수열은 사전 순으로 증가하는 순서로 출력해야 한다."
   ]
  },
  {
   "cell_type": "code",
   "execution_count": null,
   "metadata": {},
   "outputs": [],
   "source": []
  },
  {
   "cell_type": "code",
   "execution_count": null,
   "metadata": {},
   "outputs": [],
   "source": []
  },
  {
   "cell_type": "code",
   "execution_count": null,
   "metadata": {},
   "outputs": [],
   "source": []
  },
  {
   "cell_type": "code",
   "execution_count": null,
   "metadata": {},
   "outputs": [],
   "source": []
  },
  {
   "cell_type": "code",
   "execution_count": null,
   "metadata": {},
   "outputs": [],
   "source": [
    "# 출처 : https://wlstyql.tistory.com/56\n",
    "'''\n",
    "구현 시에 쓰일 사항\n",
    "\n",
    "1. visited (탐사 했는지 여부)\n",
    "2. out (탐사 내용)\n",
    "3. 재귀 함수 시\n",
    "- 탈출 조건 : Depth가 M일 때\n",
    "- 탐사를 안했을 경우 진행\n",
    "- Depth 탐색 전 : 탐사 시작(중복 제거), 탐사 내용 append\n",
    "- Depth 탐색 후 : 다음 탐사 준비, 탐사 내용 pop\n",
    "'''\n",
    "\n",
    "N, M = map(int, input().split())\n",
    "visited = [False] * N  # 탐사 여부 check\n",
    "out = []  # 출력 내용\n",
    "\n",
    "def solve(depth, N, M):\n",
    "    if depth == M:  # 탈출 조건\n",
    "        print(' '.join(map(str, out)))  # list를 str으로 합쳐 출력\n",
    "        return\n",
    "    for i in range(len(visited)):  # 탐사 check 하면서\n",
    "        if not visited[i]:  # 탐사 안했다면\n",
    "            visited[i] = True  # 탐사 시작(중복 제거)\n",
    "            out.append(i+1)  # 탐사 내용\n",
    "            solve(depth+1, N, M)  # 깊이 우선 탐색\n",
    "            visited[i] = False  # 깊이 탐사 완료\n",
    "            out.pop()  # 탐사 내용 제거\n",
    "\n",
    "solve(0, N, M)"
   ]
  },
  {
   "cell_type": "code",
   "execution_count": null,
   "metadata": {},
   "outputs": [],
   "source": [
    "from itertools import permutations\n",
    "N, M = map(int, input().split())\n",
    "P = permutations(range(1, N+1), M)  # iter(tuple)\n",
    "for i in P:\n",
    "    print(' '.join(map(str, i)))  # tuple -> str"
   ]
  },
  {
   "cell_type": "code",
   "execution_count": null,
   "metadata": {},
   "outputs": [],
   "source": [
    "# 출처 : https://hwiyong.tistory.com/300\n",
    "\n",
    "N, M = map(int, input().split())\n",
    "\n",
    "num_list = [i + 1 for i in range(N)]\n",
    "check_list = [False] * N\n",
    "\n",
    "arr = []\n",
    "\n",
    "def dfs(cnt):\n",
    "    # 주어진 개수만큼 채워지면 출력한다\n",
    "    if(cnt == M):\n",
    "        print(*arr)\n",
    "        return\n",
    "    \n",
    "    for i in range(0, N):\n",
    "        if(check_list[i]):\n",
    "            continue\n",
    "        \n",
    "        # i번째는 거쳐갈거라서 True로 바꾼다.\n",
    "        check_list[i] = True\n",
    "        arr.append(num_list[i])\n",
    "        # 현재의 i를 기준으로 가지치기 시작\n",
    "        dfs(cnt + 1)\n",
    "        # 이 부분은\n",
    "        arr.pop()\n",
    "        # 여기서 print(arr)을 해보면 작동원리를 알 수 있다.\n",
    "#         print(arr)\n",
    "#         print(check_list)\n",
    "        check_list[i] = False\n",
    "        \n",
    "dfs(0)\n"
   ]
  },
  {
   "cell_type": "code",
   "execution_count": null,
   "metadata": {},
   "outputs": [],
   "source": [
    "# 출처 : https://hjp845.tistory.com/77\n",
    "\n",
    "n, m = map(int, input().split())\n",
    "\n",
    "check = [False for i in range(n + 1)]\n",
    "subs = [i for i in range(m)]\n",
    "\n",
    "def go(idx, n, m):\n",
    "    if idx == m:\n",
    "        print(' '.join(map(str, subs)))\n",
    "        return\n",
    "    else:\n",
    "        for i in range(1, n + 1):\n",
    "            if check[i] == False:\n",
    "                check[i] = True\n",
    "                subs[idx] = i\n",
    "                go(idx + 1, n, m)\n",
    "                check[i] = False\n",
    "\n",
    "go(0, n, m)"
   ]
  },
  {
   "cell_type": "code",
   "execution_count": null,
   "metadata": {},
   "outputs": [],
   "source": [
    "# 출처 : https://developmentdiary.tistory.com/288\n",
    "\n",
    "n, m = map(int, input().split())    # n까지 m개\n",
    "check=[0 for _ in range(n+1)]\n",
    "result=[0 for _ in range(m)]\n",
    " \n",
    "def sequence(index,n,m):\n",
    "    if index==m:\n",
    "        for i in range(m):\n",
    "            print(result[i], end=' ')\n",
    "        print()\n",
    "        return\n",
    " \n",
    "    for i in range(1,n+1):\n",
    "        if check[i]==1:#이전에 썻다면\n",
    "            continue\n",
    "        result[index]=i #해당위치에 넣어줌\n",
    "        check[i]=1  #들어간거 체크표시\n",
    "        sequence(index+1,n,m)\n",
    "        check[i]=0 #다음수로 넘어가기전에 초기화\n",
    " \n",
    " \n",
    "sequence(0,n,m)"
   ]
  },
  {
   "cell_type": "code",
   "execution_count": null,
   "metadata": {},
   "outputs": [],
   "source": [
    "# 출처 : https://conak-diary.tistory.com/34\n",
    "\n",
    "n, m = map(int, input().split()) # 1부터 n까지의 숫자를 이용해 m자리의 수열 만들기\n",
    " \n",
    "check = [False] * (n + 1)        # 0은 사용안할것이고 1부터 n+1까지 check(중복으로 사용하는가의 여부)\n",
    "a = [0] * m                      # a는 m자리 수열 만드는 용도\n",
    "  \n",
    " \n",
    "def go(index, n, m):             # index, 숫자, 자리 => 다음 수 만들기 함수\n",
    "    if index == m:               # m자리 수열을 다 체웠다면\n",
    "        for i in range(m):       # i를 0부터 m-1까지\n",
    "            print(a[i], end=' ') # 출력 a[0] a[1] a[2] ... a[m-1]\n",
    "        print()                  # 줄 넘기기\n",
    " \n",
    "        return                   # 함수 끝내기\n",
    "    for i in range(1, n + 1):    # i를 1부터 n까지\n",
    "        if check[i]:             # 만약 i를 이미 사용했다면\n",
    "           continue              # for문을 진행해서 사용할 숫자 바꾸기\n",
    "        check[i] = True          # 사용하지 않았다면 i를 사용할 예정이기 때문에 True로 바꾸기\n",
    "        a[index] = i             # index 자리에 i 넣기\n",
    "        go(index + 1, n, m)      # # index+1 자리 채우기\n",
    "        check[i] = False\n",
    " \n",
    " \n",
    "go(0, n, m)"
   ]
  },
  {
   "cell_type": "code",
   "execution_count": null,
   "metadata": {},
   "outputs": [],
   "source": [
    "# 출처: https://suri78.tistory.com/71 [공부노트]\n",
    "\n",
    "import sys \n",
    "\n",
    "def testCase(): \n",
    "    input_val = list(map(int, sys.stdin.readline().split())) \n",
    "    global N, M \n",
    "    N, M = input_val \n",
    "    \n",
    "def dfs(remain, result = []): \n",
    "    if len(result) == M: \n",
    "        # print \n",
    "        for i in result: \n",
    "            print(i, end=\" \") \n",
    "        print() \n",
    "        return \n",
    "    # dfs \n",
    "    for r in remain: \n",
    "        remain.remove(r) \n",
    "        result.append(r) \n",
    "        \n",
    "        dfs(remain, result) \n",
    "        \n",
    "        remain.append(r) \n",
    "        remain.sort() \n",
    "        result.pop(-1) \n",
    "    \n",
    "if __name__ == \"__main__\": \n",
    "    testCase() \n",
    "    dfs(list(range(1, N+1)))"
   ]
  },
  {
   "cell_type": "code",
   "execution_count": null,
   "metadata": {},
   "outputs": [],
   "source": [
    "# 출처 : https://leejunggae.tistory.com/19\n",
    "\n",
    "n, m = map(int, input().split())\n",
    "\n",
    "number_list = [1 + i for i in range(n)]   # 숫자 리스트\n",
    "check_number = [False] * n                # 중복숫자 체크\n",
    "array = []                                # 출력할 수열\n",
    " \n",
    "def DFS(x):\n",
    "    if x == m:                            # 수열 m개를 충족할경우 출력\n",
    "            print(*array)            \n",
    "            return\n",
    "            \n",
    "    for i in range(n):\n",
    "        if check_number[i]:               # 중복될 경우 패스\n",
    "            continue\n",
    "\n",
    "        array.append(number_list[i])      # 수열 추가\n",
    "        check_number[i] = True            # 사용한 수 체크\n",
    "\n",
    "        DFS(x + 1)                        # + 1번째 수열을 위해 재귀함수 호출\n",
    "\n",
    "        array.pop()                       # 수열 마지막 자리 삭제\n",
    "        check_number[i] = False           # 사용한 수 초기화\n",
    "DFS(0) "
   ]
  }
 ],
 "metadata": {
  "kernelspec": {
   "display_name": "Python 3",
   "language": "python",
   "name": "python3"
  },
  "language_info": {
   "codemirror_mode": {
    "name": "ipython",
    "version": 3
   },
   "file_extension": ".py",
   "mimetype": "text/x-python",
   "name": "python",
   "nbconvert_exporter": "python",
   "pygments_lexer": "ipython3",
   "version": "3.8.3"
  }
 },
 "nbformat": 4,
 "nbformat_minor": 4
}
