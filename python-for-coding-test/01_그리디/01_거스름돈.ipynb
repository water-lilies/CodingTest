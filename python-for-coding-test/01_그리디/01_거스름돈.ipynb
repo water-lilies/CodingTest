{
 "cells": [
  {
   "cell_type": "code",
   "execution_count": 17,
   "metadata": {},
   "outputs": [],
   "source": [
    "money = 1260"
   ]
  },
  {
   "cell_type": "code",
   "execution_count": 18,
   "metadata": {},
   "outputs": [],
   "source": [
    "coin_types = [500,100,50,10]\n",
    "count = 0"
   ]
  },
  {
   "cell_type": "code",
   "execution_count": 19,
   "metadata": {},
   "outputs": [
    {
     "name": "stdout",
     "output_type": "stream",
     "text": [
      "2 260\n",
      "4 60\n",
      "5 10\n",
      "6 0\n"
     ]
    }
   ],
   "source": [
    "for coin in coin_types:\n",
    "    count = count + money // coin\n",
    "    money = money % coin\n",
    "    print(count, money)"
   ]
  },
  {
   "cell_type": "code",
   "execution_count": 16,
   "metadata": {},
   "outputs": [
    {
     "name": "stdout",
     "output_type": "stream",
     "text": [
      "2 260\n",
      "4 60\n",
      "5 10\n",
      "6 0\n"
     ]
    }
   ],
   "source": [
    "for coin in coin_types:\n",
    "    count += money // coin\n",
    "    money %= coin\n",
    "    print(count, money)"
   ]
  },
  {
   "cell_type": "code",
   "execution_count": null,
   "metadata": {},
   "outputs": [],
   "source": []
  }
 ],
 "metadata": {
  "kernelspec": {
   "display_name": "Python 3",
   "language": "python",
   "name": "python3"
  },
  "language_info": {
   "codemirror_mode": {
    "name": "ipython",
    "version": 3
   },
   "file_extension": ".py",
   "mimetype": "text/x-python",
   "name": "python",
   "nbconvert_exporter": "python",
   "pygments_lexer": "ipython3",
   "version": "3.7.3"
  }
 },
 "nbformat": 4,
 "nbformat_minor": 2
}
