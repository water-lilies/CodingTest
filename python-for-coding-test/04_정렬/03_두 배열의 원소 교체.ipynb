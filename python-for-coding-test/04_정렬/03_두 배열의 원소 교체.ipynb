{
 "cells": [
  {
   "cell_type": "markdown",
   "metadata": {},
   "source": [
    "### 문제\n",
    "동빈이는 두 개의 배열 A와 B를 가지고 있다. 두 배열은 N개의 원소로 구성되어 있으며, 배열의 원소는\n",
    "모두 자연수이다\n",
    "\n",
    "동빈이는 최대 K 번의 바꿔치기 연산을 수행할 수 있는데, 바꿔치기 연산이란 배열 A에 있는 원소 하나와\n",
    "배열 B에 있는 원소 하나를 골라서 두 원소를 서로 바꾸는 것을 말한다\n",
    "\n",
    "동빈이의 최종 목표는 배열 A의 모든 원소의 합이 최대가 되도록 하는 것이며, 여러분은 동빈이를 도와야한다\n",
    "\n",
    "N, K, 그리고 배열 A와 B의 정보가 주어졌을 때, 최대 K 번의 바꿔치기 연산을 수행하여 만들 수 있는\n",
    "배열 A의 모든 원소의 합의 최댓값을 출력하는 프로그램을 작성하라\n",
    "\n",
    "예를 들어 N = 5, K = 3이고, 배열 A와 B가 다음과 같다고 해보자\n",
    "\n",
    "- 배열 A = [1, 2, 5, 4, 3]\n",
    "\n",
    "- 배열 B = [5, 5, 6, 6, 5]\n",
    "\n",
    "<br> 이 경우, 다음과 같이 세 번의 연산을 수행할 수 있다\n",
    "\n",
    "    연산 1) 배열 A의 원소 '1'과 배열 B의 원소 '6'을 바꾸기\n",
    "\n",
    "    연산 2) 배열 A의 원소 '2'와 배열 B의 원소 '6'을 바꾸기\n",
    "\n",
    "    연산 3) 배열 A의 원소 '3'과 배열 B의 원소 '5'를 바꾸기\n",
    "    \n",
    "<br> 세 번의 연산 이후 배열 A와 배열 B의 상태는 다음과 같이 구성될 것이다\n",
    "\n",
    "- 배열 A = [6, 6, 5, 4, 5]\n",
    "\n",
    "- 배열 B = [3, 5, 1, 2, 5]\n",
    "\n",
    "<br> 이때 배열 A의 모든 원소의 합은 26이 되며, 이보다 더 합을 크게 만들 수는 없다\n",
    "\n",
    "### 입력\n",
    "    1: N, K 가 공백으로 구분되어 입력 (1 <= N <= 100,000, 0 <= K <= N)\n",
    "    2: 배열 A의 원소들이 공백으로 구분되어 입력 (원소 a < 10,000,000인 자연수)\n",
    "    3: 배열 B의 원소들이 공백으로 구분되어 입력 (원소 b < 10,000,000인 자연수)\n",
    "### 출력\n",
    "최대 K번 바꿔치기 연산을 수행해서 가장 최대의 합을 갖는 A의 모든 원소 값의 합을 출력"
   ]
  },
  {
   "cell_type": "code",
   "execution_count": null,
   "metadata": {},
   "outputs": [],
   "source": [
    "n, k = map(int, input().split()) # N과 K를 입력 받기\n",
    "a = list(map(int, input().split())) # 배열 A의 모든 원소를 입력받기\n",
    "b = list(map(int, input().split())) # 배열 B의 모든 원소를 입력받기\n",
    "\n",
    "a.sort() # 배열 A는 오름차순 정렬 수행\n",
    "b.sort(reverse=True) # 배열 B는 내림차순 정렬 수행\n",
    "\n",
    "# 첫 번째 인덱스부터 확인하며, 두 배열의 원소를 최대 K번 비교\n",
    "for i in range(k):\n",
    "    # A의 원소가 B의 원소보다 작은 경우\n",
    "    if a[i] < b[i]:\n",
    "        # 두 원소를 교체\n",
    "        a[i], b[i] = b[i], a[i]\n",
    "    else: # A의 원소가 B의 원소보다 크거나 같을 때, 반복문을 탈출\n",
    "        break\n",
    "\n",
    "print(sum(a)) # 배열 A의 모든 원소의 합을 출력"
   ]
  }
 ],
 "metadata": {
  "kernelspec": {
   "display_name": "Python 3",
   "language": "python",
   "name": "python3"
  },
  "language_info": {
   "codemirror_mode": {
    "name": "ipython",
    "version": 3
   },
   "file_extension": ".py",
   "mimetype": "text/x-python",
   "name": "python",
   "nbconvert_exporter": "python",
   "pygments_lexer": "ipython3",
   "version": "3.7.3"
  }
 },
 "nbformat": 4,
 "nbformat_minor": 2
}
